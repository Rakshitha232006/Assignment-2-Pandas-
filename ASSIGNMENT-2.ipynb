{
 "cells": [
  {
   "cell_type": "markdown",
   "id": "f1d95631-c120-46b2-bd8f-9a731f880b3d",
   "metadata": {},
   "source": [
    "ASSIGNMENT-2     DATA FILTERING & TRANSFORMATION"
   ]
  },
  {
   "cell_type": "markdown",
   "id": "8aeeab39-a636-4a94-9e3c-e35a224cd61a",
   "metadata": {},
   "source": [
    "PART-1"
   ]
  },
  {
   "cell_type": "code",
   "execution_count": 11,
   "id": "1c748795-7bd6-49d4-8efc-c396fa029cfd",
   "metadata": {},
   "outputs": [],
   "source": [
    "#loading the data set\n",
    "import pandas as pd\n",
    "sales=pd.read_csv(\"D:/COE/datasets-main/store_sales (1).csv\")  "
   ]
  },
  {
   "cell_type": "code",
   "execution_count": 20,
   "id": "3af4e27f-1a5f-4480-81cb-a3135d4ac500",
   "metadata": {},
   "outputs": [
    {
     "name": "stdout",
     "output_type": "stream",
     "text": [
      "   store_id  city  Jan  Feb  Mar  Apr  May  Jun  July  Aug  Sep  Oct  Nov  Dec\n",
      "0       NaN   NaN    8   20   13   21   17   20    24   17   16    9    7    6\n",
      "1       NaN   NaN   12   19   15   15   11   19     7   15   10   11   21   19\n",
      "2       NaN   NaN   16   16   14   19   23    6    13   13   15   14   24    8\n",
      "3       NaN   NaN    8   18   13   10   14   14     6    8    8   18    7   11\n",
      "4       NaN   NaN   19    5   24    9    5   24    10    5   24   15    6   13\n",
      "    store_id  city  Jan  Feb  Mar  Apr  May  Jun  July  Aug  Sep  Oct  Nov  \\\n",
      "95       NaN   NaN    7   10   20   20   10   15    15   21   15    7   23   \n",
      "96       NaN   NaN   13    6    7   15   22   10    21   23   10    6   12   \n",
      "97       NaN   NaN   16    9    6   14   20   13    11   10    8   22   17   \n",
      "98       NaN   NaN   18   16    9    5   12   22    11   13   21   17   19   \n",
      "99       NaN   NaN    5   23   17   24   15   21    19   10   12   20    5   \n",
      "\n",
      "    Dec  \n",
      "95   22  \n",
      "96    9  \n",
      "97   22  \n",
      "98   10  \n",
      "99    9  \n"
     ]
    }
   ],
   "source": [
    "#to display the first and last 5 rows\n",
    "print(sales.head(5))\n",
    "print(sales.tail(5))"
   ]
  },
  {
   "cell_type": "code",
   "execution_count": 21,
   "id": "08f06787-c03f-40c7-a65e-fa2c1ba377a3",
   "metadata": {},
   "outputs": [
    {
     "name": "stdout",
     "output_type": "stream",
     "text": [
      "(100, 14)\n",
      "<class 'pandas.core.frame.DataFrame'>\n",
      "RangeIndex: 100 entries, 0 to 99\n",
      "Data columns (total 14 columns):\n",
      " #   Column    Non-Null Count  Dtype  \n",
      "---  ------    --------------  -----  \n",
      " 0   store_id  0 non-null      float64\n",
      " 1   city      0 non-null      float64\n",
      " 2   Jan       100 non-null    int64  \n",
      " 3   Feb       100 non-null    int64  \n",
      " 4   Mar       100 non-null    int64  \n",
      " 5   Apr       100 non-null    int64  \n",
      " 6   May       100 non-null    int64  \n",
      " 7   Jun       100 non-null    int64  \n",
      " 8   July      100 non-null    int64  \n",
      " 9   Aug       100 non-null    int64  \n",
      " 10  Sep       100 non-null    int64  \n",
      " 11  Oct       100 non-null    int64  \n",
      " 12  Nov       100 non-null    int64  \n",
      " 13  Dec       100 non-null    int64  \n",
      "dtypes: float64(2), int64(12)\n",
      "memory usage: 11.1 KB\n",
      "None\n"
     ]
    }
   ],
   "source": [
    "#to print the data types,shape and non-null count\n",
    "print(sales.shape) \n",
    "print(sales.info())"
   ]
  },
  {
   "cell_type": "code",
   "execution_count": 26,
   "id": "bb47aa0a-09f3-4ec5-b875-df0e0464a03f",
   "metadata": {},
   "outputs": [
    {
     "name": "stdout",
     "output_type": "stream",
     "text": [
      "['store_id', 'city', 'Jan', 'Feb', 'Mar', 'Apr', 'May', 'Jun', 'July', 'Aug', 'Sep', 'Oct', 'Nov', 'Dec']\n",
      "       store_id  city         Jan         Feb         Mar         Apr  \\\n",
      "count       0.0   0.0  100.000000  100.000000  100.000000  100.000000   \n",
      "mean        NaN   NaN   14.460000   15.090000   14.560000   14.570000   \n",
      "std         NaN   NaN    5.712683    6.055459    5.782803    4.965039   \n",
      "min         NaN   NaN    5.000000    5.000000    5.000000    5.000000   \n",
      "25%         NaN   NaN   10.000000    9.000000    9.750000   11.000000   \n",
      "50%         NaN   NaN   15.000000   16.000000   15.000000   14.500000   \n",
      "75%         NaN   NaN   19.000000   21.000000   19.250000   19.000000   \n",
      "max         NaN   NaN   24.000000   24.000000   24.000000   24.000000   \n",
      "\n",
      "              May         Jun        July         Aug         Sep        Oct  \\\n",
      "count  100.000000  100.000000  100.000000  100.000000  100.000000  100.00000   \n",
      "mean    13.560000   13.800000   14.380000   15.810000   14.910000   14.10000   \n",
      "std      5.883241    5.962848    5.566458    6.152432    5.284043    5.87496   \n",
      "min      5.000000    5.000000    5.000000    5.000000    5.000000    5.00000   \n",
      "25%      8.000000    9.000000   10.000000   11.000000   11.000000    9.00000   \n",
      "50%     13.000000   13.500000   15.000000   17.000000   14.500000   14.00000   \n",
      "75%     19.000000   19.000000   19.000000   21.000000   19.000000   19.00000   \n",
      "max     24.000000   24.000000   24.000000   24.000000   24.000000   24.00000   \n",
      "\n",
      "              Nov         Dec  \n",
      "count  100.000000  100.000000  \n",
      "mean    15.310000   13.570000  \n",
      "std      6.461533    5.852143  \n",
      "min      5.000000    5.000000  \n",
      "25%     10.000000    8.000000  \n",
      "50%     16.000000   13.000000  \n",
      "75%     21.250000   19.000000  \n",
      "max     24.000000   24.000000  \n"
     ]
    }
   ],
   "source": [
    "#to print column names and summary statistics\n",
    "print(sales.columns.tolist())\n",
    "print(sales.describe())"
   ]
  },
  {
   "cell_type": "code",
   "execution_count": 27,
   "id": "3a492756-8f63-4d32-a0ce-05c09873fea6",
   "metadata": {},
   "outputs": [
    {
     "name": "stdout",
     "output_type": "stream",
     "text": [
      "store_id - sum: 0.0, mean: nan\n",
      "city - sum: 0.0, mean: nan\n",
      "Jan - sum: 1446, mean: 14.46\n",
      "Feb - sum: 1509, mean: 15.09\n",
      "Mar - sum: 1456, mean: 14.56\n",
      "Apr - sum: 1457, mean: 14.57\n",
      "May - sum: 1356, mean: 13.56\n",
      "Jun - sum: 1380, mean: 13.8\n",
      "July - sum: 1438, mean: 14.38\n",
      "Aug - sum: 1581, mean: 15.81\n",
      "Sep - sum: 1491, mean: 14.91\n",
      "Oct - sum: 1410, mean: 14.1\n",
      "Nov - sum: 1531, mean: 15.31\n",
      "Dec - sum: 1357, mean: 13.57\n"
     ]
    }
   ],
   "source": [
    "#to print total and averae sales for each month\n",
    "for month in sales.columns:\n",
    "    sales[month] = pd.to_numeric(sales[month], errors='coerce')\n",
    "    sum_val = sales[month].sum()\n",
    "    mean_val = sales[month].mean()\n",
    "    print(f\"{month} - sum: {sum_val}, mean: {mean_val}\")"
   ]
  },
  {
   "cell_type": "code",
   "execution_count": 28,
   "id": "4718ebc8-d691-4a8e-83b3-22a06ca4045a",
   "metadata": {},
   "outputs": [
    {
     "name": "stdout",
     "output_type": "stream",
     "text": [
      "1357\n"
     ]
    }
   ],
   "source": [
    "#total yearly sales for all stores\n",
    "year= sales[month].sum().sum()\n",
    "print(year)"
   ]
  }
 ],
 "metadata": {
  "kernelspec": {
   "display_name": "Python 3 (ipykernel)",
   "language": "python",
   "name": "python3"
  },
  "language_info": {
   "codemirror_mode": {
    "name": "ipython",
    "version": 3
   },
   "file_extension": ".py",
   "mimetype": "text/x-python",
   "name": "python",
   "nbconvert_exporter": "python",
   "pygments_lexer": "ipython3",
   "version": "3.13.5"
  }
 },
 "nbformat": 4,
 "nbformat_minor": 5
}
